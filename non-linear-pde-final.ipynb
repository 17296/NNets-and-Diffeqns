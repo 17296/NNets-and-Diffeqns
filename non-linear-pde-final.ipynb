{
 "cells": [
  {
   "cell_type": "code",
   "execution_count": 1,
   "metadata": {},
   "outputs": [],
   "source": [
    "import numpy as np\n",
    "import scipy\n",
    "from scipy import spatial"
   ]
  },
  {
   "cell_type": "code",
   "execution_count": 2,
   "metadata": {},
   "outputs": [],
   "source": [
    "import matplotlib.pyplot as plt\n",
    "%matplotlib inline"
   ]
  },
  {
   "cell_type": "markdown",
   "metadata": {},
   "source": [
    "## This is the solution of nonlinear 2nd order PDEs.\n"
   ]
  },
  {
   "cell_type": "markdown",
   "metadata": {},
   "source": [
    "This solution should work for general elliptic PDEs such as\n",
    "$$\n",
    "\\frac{\\partial^2 u(x,y)}{\\partial x^2 } ~+~ \\frac{\\partial^2 u(x,y)}{\\partial y^2 } ~=~ f(x,y)\n",
    "$$\n",
    "But we restrict it to simple 1d systems described by the following equation"
   ]
  },
  {
   "cell_type": "markdown",
   "metadata": {},
   "source": [
    "$$\n",
    "\\frac{d}{dx} (k(x) \\frac{du}{dx} ) ~=~ \\frac{dk(x)}{dx}\\frac{du}{dx} + k(x)\\frac{d^2 u}{dx^2} ~=~ f(x)\n",
    "$$"
   ]
  },
  {
   "cell_type": "code",
   "execution_count": 60,
   "metadata": {},
   "outputs": [],
   "source": [
    "import torch\n",
    "import numpy as np\n",
    "import os\n",
    "import time\n",
    "from torch import nn\n",
    "from torch.autograd import Variable\n",
    "from torch import optim\n",
    "import torch.nn.functional as F\n",
    "from torch.autograd import grad"
   ]
  },
  {
   "cell_type": "code",
   "execution_count": 61,
   "metadata": {},
   "outputs": [],
   "source": [
    "class Net(nn.Module):\n",
    "    def __init__(self):\n",
    "        super(Net, self).__init__()\n",
    "        self.il  = nn.Linear(1,80)\n",
    "        self.mi  = nn.Linear(80,80)\n",
    "        self.mi1  = nn.Linear(80,80)\n",
    "        self.mi2 = nn.Linear(80,40)\n",
    "        self.ol  = nn.Linear(40,1)\n",
    "        #self.tn = nn.ReLU()\n",
    "        self.tn  = nn.Tanh()\n",
    "        for m in self.modules():\n",
    "            if isinstance(m, nn.Linear):\n",
    "                nn.init.normal_(m.weight, mean=0, std=0.1)\n",
    "\n",
    "    def forward(self,x):\n",
    "        u = x\n",
    "        #print(u)\n",
    "        hidden1 = self.il(u)\n",
    "        hidden2 = self.mi(self.tn(hidden1))\n",
    "        hidden2a = self.mi1(self.tn(hidden2))\n",
    "        hidden3 = self.mi2(self.tn(hidden2a))\n",
    "        out =     self.ol(self.tn(hidden3))\n",
    "        return out"
   ]
  },
  {
   "cell_type": "code",
   "execution_count": 62,
   "metadata": {},
   "outputs": [],
   "source": [
    "def flat(x):\n",
    "    m = x.shape[0]\n",
    "    return [x[i] for i in range(m)]"
   ]
  },
  {
   "cell_type": "code",
   "execution_count": 63,
   "metadata": {},
   "outputs": [],
   "source": [
    "vxn  = 50\n",
    "vx =np.linspace(0, np.pi, vxn) \n",
    "ix = torch.FloatTensor(vx).reshape(vxn,1)"
   ]
  },
  {
   "cell_type": "markdown",
   "metadata": {},
   "source": [
    "We will look at 2 cases where we can verify the result.  We will use k(x) = x for both.\n",
    "$$\n",
    "case ~1 ~~~~ u ~=~ sin^2(x)\n",
    "$$\n",
    "$$\n",
    "case ~2 ~~~~ u ~=~ sin^2(2x)\n",
    "$$"
   ]
  },
  {
   "cell_type": "code",
   "execution_count": 64,
   "metadata": {},
   "outputs": [],
   "source": [
    "def u_true(x):\n",
    "    u = np.sin(x)**2\n",
    "    return u"
   ]
  },
  {
   "cell_type": "markdown",
   "metadata": {},
   "source": [
    "Now symbolically compute the dervatives\n",
    "$$\n",
    "\\frac{du}{dx} ~=~ 2.0 \\sin(x) \\cos(x) ~=~  \\sin(2x)\n",
    "$$"
   ]
  },
  {
   "cell_type": "markdown",
   "metadata": {},
   "source": [
    "$$\n",
    "k(x) ~=~ x\n",
    "$$\n",
    "$$\n",
    "\\frac{d}{dx} (k(x) \\frac{du}{dx} )~=~ \\frac{d}{dx} (  x sin(2x)) ~=~ sin(2x)+2*x*cos(2x)\n",
    "$$\n",
    "\n",
    "\n",
    "$$\n",
    "\\frac{d}{dx} (x\\frac{du}{dx} )~=~ sin(2x)+2xcos(2x)\n",
    "$$"
   ]
  },
  {
   "cell_type": "code",
   "execution_count": 65,
   "metadata": {},
   "outputs": [],
   "source": [
    "def f_true(x):\n",
    "    f = np.sin(2.0*x)+2.0*x*np.cos(2*x)\n",
    "    #f = 4.0*np.cos(2.0*x)\n",
    "    return f"
   ]
  },
  {
   "cell_type": "code",
   "execution_count": 66,
   "metadata": {},
   "outputs": [
    {
     "data": {
      "text/plain": [
       "[<matplotlib.lines.Line2D at 0x27c58645f88>]"
      ]
     },
     "execution_count": 66,
     "metadata": {},
     "output_type": "execute_result"
    },
    {
     "data": {
      "image/png": "[encoded data removed]",
      "text/plain": [
       "<Figure size 432x288 with 1 Axes>"
      ]
     },
     "metadata": {
      "needs_background": "light"
     },
     "output_type": "display_data"
    }
   ],
   "source": [
    "plt.plot(ix, ix)\n",
    "plt.plot(ix, f_true(ix))"
   ]
  },
  {
   "cell_type": "code",
   "execution_count": 67,
   "metadata": {},
   "outputs": [
    {
     "data": {
      "text/plain": [
       "tensor([[0.2527],\n",
       "        [0.2758]], grad_fn=<AddmmBackward>)"
      ]
     },
     "execution_count": 67,
     "metadata": {},
     "output_type": "execute_result"
    }
   ],
   "source": [
    "bndry = torch.FloatTensor([vx[0], vx[vxn-1]]).reshape(2,1)\n",
    "Truebndry = torch.FloatTensor([0., 0.]).reshape(2,1)\n",
    "mynet = Net()\n",
    "mynet(bndry)"
   ]
  },
  {
   "cell_type": "code",
   "execution_count": 68,
   "metadata": {},
   "outputs": [],
   "source": [
    "def Du(x):\n",
    "    u = mynet(x)\n",
    "    u_x = grad(flat(u), x, create_graph=True, allow_unused=True)[0] #nth_derivative(flat(u), wrt=x, n=1)\n",
    "    z = u_x*x\n",
    "    u_xx = grad(flat(z), x, create_graph=True, allow_unused=True)[0] #nth_derivative(flat(u), wrt=x, n=1)\n",
    "    f = u_xx\n",
    "    return f\n"
   ]
  },
  {
   "cell_type": "code",
   "execution_count": 69,
   "metadata": {},
   "outputs": [],
   "source": [
    "mynet = Net()"
   ]
  },
  {
   "cell_type": "code",
   "execution_count": 70,
   "metadata": {},
   "outputs": [
    {
     "data": {
      "text/plain": [
       "tensor([[-0.0105],\n",
       "        [-0.0066],\n",
       "        [-0.0066],\n",
       "        [-0.0214],\n",
       "        [-0.0066],\n",
       "        [-0.0092],\n",
       "        [-0.0088],\n",
       "        [-0.0161],\n",
       "        [-0.0110],\n",
       "        [-0.0153]], grad_fn=<AddBackward0>)"
      ]
     },
     "execution_count": 70,
     "metadata": {},
     "output_type": "execute_result"
    }
   ],
   "source": [
    "import random\n",
    "batches = []\n",
    "fbatches = []\n",
    "for i in range(20):\n",
    "    b = random.choices(vx,k=10)\n",
    "    bar = np.array(b)\n",
    "    fb = f_true(bar)\n",
    "    fb0 = torch.FloatTensor(fb).reshape(10,1)\n",
    "    fb0.requires_grad=True\n",
    "    ib = torch.FloatTensor(b).reshape(10,1)\n",
    "    ib.requires_grad=True\n",
    "    batches.append(ib)\n",
    "    fbatches.append(fb0)\n",
    "Du(batches[13])"
   ]
  },
  {
   "cell_type": "code",
   "execution_count": 71,
   "metadata": {},
   "outputs": [
    {
     "name": "stdout",
     "output_type": "stream",
     "text": [
      "epoc 50 bndry loss 0.200076, f loss 61.989479\n",
      "epoc 100 bndry loss 0.000111, f loss 1.436094\n",
      "epoc 150 bndry loss 0.003624, f loss 0.957255\n",
      "epoc 200 bndry loss 0.000476, f loss 0.950041\n",
      "epoc 250 bndry loss 0.000756, f loss 0.648400\n",
      "epoc 300 bndry loss 0.000303, f loss 0.662985\n",
      "epoc 350 bndry loss 0.000530, f loss 0.391052\n",
      "epoc 400 bndry loss 0.000144, f loss 0.307978\n",
      "epoc 450 bndry loss 0.000235, f loss 0.222816\n",
      "epoc 500 bndry loss 0.000186, f loss 0.136610\n",
      "epoc 550 bndry loss 0.000044, f loss 0.092650\n",
      "epoc 600 bndry loss 0.000013, f loss 0.083790\n",
      "epoc 650 bndry loss 0.000016, f loss 0.089004\n",
      "epoc 700 bndry loss 0.000193, f loss 0.060169\n",
      "epoc 750 bndry loss 0.000013, f loss 0.052670\n",
      "epoc 800 bndry loss 0.000013, f loss 0.066963\n",
      "epoc 850 bndry loss 0.000013, f loss 0.050933\n",
      "epoc 900 bndry loss 0.000009, f loss 0.044755\n",
      "epoc 950 bndry loss 0.000008, f loss 0.042402\n",
      "epoc 1000 bndry loss 0.000012, f loss 0.048358\n",
      "epoc 1050 bndry loss 0.000005, f loss 0.032774\n",
      "epoc 1100 bndry loss 0.000002, f loss 0.045849\n",
      "epoc 1150 bndry loss 0.000001, f loss 0.039557\n",
      "epoc 1200 bndry loss 0.000006, f loss 0.029438\n",
      "epoc 1250 bndry loss 0.000025, f loss 0.033133\n",
      "epoc 1300 bndry loss 0.000001, f loss 0.028909\n",
      "epoc 1350 bndry loss 0.000009, f loss 0.022428\n",
      "epoc 1400 bndry loss 0.000000, f loss 0.034496\n",
      "epoc 1450 bndry loss 0.000018, f loss 0.034666\n",
      "epoc 1500 bndry loss 0.000003, f loss 0.024683\n",
      "epoc 1550 bndry loss 0.000017, f loss 0.025121\n",
      "epoc 1600 bndry loss 0.000002, f loss 0.015337\n",
      "epoc 1650 bndry loss 0.000001, f loss 0.019150\n",
      "epoc 1700 bndry loss 0.000004, f loss 0.013345\n",
      "epoc 1750 bndry loss 0.000006, f loss 0.017629\n",
      "epoc 1800 bndry loss 0.000005, f loss 0.014267\n",
      "epoc 1850 bndry loss 0.000008, f loss 0.019774\n",
      "epoc 1900 bndry loss 0.000001, f loss 0.009526\n",
      "epoc 1950 bndry loss 0.000015, f loss 0.014529\n",
      "epoc 2000 bndry loss 0.000003, f loss 0.012693\n",
      "epoc 2050 bndry loss 0.000011, f loss 0.013288\n",
      "epoc 2100 bndry loss 0.000001, f loss 0.013790\n",
      "epoc 2150 bndry loss 0.000002, f loss 0.010789\n",
      "epoc 2200 bndry loss 0.000003, f loss 0.007285\n",
      "epoc 2250 bndry loss 0.000003, f loss 0.010730\n",
      "epoc 2300 bndry loss 0.000007, f loss 0.013625\n",
      "epoc 2350 bndry loss 0.000000, f loss 0.006718\n",
      "epoc 2400 bndry loss 0.000006, f loss 0.008403\n",
      "epoc 2450 bndry loss 0.000000, f loss 0.005002\n",
      "epoc 2500 bndry loss 0.000005, f loss 0.007203\n",
      "epoc 2550 bndry loss 0.000001, f loss 0.010217\n",
      "epoc 2600 bndry loss 0.000003, f loss 0.007695\n",
      "epoc 2650 bndry loss 0.000001, f loss 0.008237\n",
      "epoc 2700 bndry loss 0.000001, f loss 0.009279\n",
      "epoc 2750 bndry loss 0.000002, f loss 0.005917\n",
      "epoc 2800 bndry loss 0.000000, f loss 0.005021\n",
      "epoc 2850 bndry loss 0.000004, f loss 0.003798\n",
      "epoc 2900 bndry loss 0.000005, f loss 0.005654\n",
      "epoc 2950 bndry loss 0.000004, f loss 0.004081\n"
     ]
    }
   ],
   "source": [
    "mynet = Net()\n",
    "epocs = 3000\n",
    "m = len(batches)\n",
    "loss_fn = nn.MSELoss()\n",
    "optimizerf = optim.SGD(mynet.parameters(), lr=0.0005)\n",
    "optimizerbdry = optim.SGD(mynet.parameters(), lr=0.001)\n",
    "\n",
    "loss_fn = nn.MSELoss()\n",
    "for epoc in range(1, epocs):\n",
    "    loss2tot =  0.0\n",
    "    for i in range(len(batches)):\n",
    "        batch_index = np.random.randint(0,m)\n",
    "        b = batches[batch_index]\n",
    "        fb = fbatches[batch_index]\n",
    "        optimizerf.zero_grad()\n",
    "        optimizerbdry.zero_grad()\n",
    "        output_bndry = mynet(bndry)\n",
    "        outputsf = Du(b)\n",
    "        loss_bndry = loss_fn(output_bndry, Truebndry)\n",
    "        lossf = loss_fn(outputsf, fb)\n",
    "        lossf.backward(retain_graph=True)\n",
    "        optimizerf.step()\n",
    "        loss2tot += lossf\n",
    "        loss_bndry.backward(retain_graph=True)\n",
    "        optimizerbdry.step()\n",
    "    if epoc % 50  == 0:\n",
    "        loss = 0.0\n",
    "        print('epoc %d bndry loss %f, f loss %f'%(epoc, float(loss_bndry), float(loss2tot))) # file=open('./elliptic_out.txt','a'))\n",
    "    if epoc % 1000 == 0:\n",
    "        torch.save(mynet.state_dict(), 'nonlinmodel')"
   ]
  },
  {
   "cell_type": "code",
   "execution_count": 72,
   "metadata": {},
   "outputs": [
    {
     "data": {
      "text/plain": [
       "[<matplotlib.lines.Line2D at 0x27c599c7348>]"
      ]
     },
     "execution_count": 72,
     "metadata": {},
     "output_type": "execute_result"
    },
    {
     "data": {
      "image/png": "[encoded data removed]",
      "text/plain": [
       "<Figure size 432x288 with 1 Axes>"
      ]
     },
     "metadata": {
      "needs_background": "light"
     },
     "output_type": "display_data"
    }
   ],
   "source": [
    "#mynet.load_state_dict(torch.load('nonlinmodel'))\n",
    "ix = torch.FloatTensor(vx).reshape(vxn,1)\n",
    "u = mynet(ix)\n",
    "plt.plot(ix, u_true(ix) ,  linewidth=6)\n",
    "plt.plot(ix, u.detach().numpy(), linewidth=2)\n"
   ]
  },
  {
   "cell_type": "code",
   "execution_count": 73,
   "metadata": {},
   "outputs": [
    {
     "data": {
      "text/plain": [
       "[<matplotlib.lines.Line2D at 0x27c59a2b048>]"
      ]
     },
     "execution_count": 73,
     "metadata": {},
     "output_type": "execute_result"
    },
    {
     "data": {
      "image/png": "[encoded data removed]",
      "text/plain": [
       "<Figure size 432x288 with 1 Axes>"
      ]
     },
     "metadata": {
      "needs_background": "light"
     },
     "output_type": "display_data"
    }
   ],
   "source": [
    "ix = torch.FloatTensor(vx).reshape(vxn,1)\n",
    "plt.plot(ix, f_true(ix) ,  linewidth=6)\n",
    "ix.requires_grad = True\n",
    "du = Du(ix)\n",
    "du = du.detach()\n",
    "plt.plot(ix.detach(), du, linewidth=2)\n"
   ]
  },
  {
   "cell_type": "markdown",
   "metadata": {},
   "source": [
    "version 2\n"
   ]
  },
  {
   "cell_type": "code",
   "execution_count": 38,
   "metadata": {},
   "outputs": [],
   "source": [
    "def u_true(x):\n",
    "    u = np.sin(2*x)**2\n",
    "    return u/8.0"
   ]
  },
  {
   "cell_type": "markdown",
   "metadata": {},
   "source": [
    "$$\n",
    "\\frac{du}{dx} ~=~ 2.0 \\sin(2x) \\cos(2x) ~=~  2.0 \\sin(4x)/8.0\n",
    "$$"
   ]
  },
  {
   "cell_type": "markdown",
   "metadata": {},
   "source": [
    "$$\n",
    "k(x) ~=~ x\n",
    "$$\n",
    "$$\n",
    "\\frac{d}{dx} (k(x) \\frac{du}{dx} )~=~ \\frac{d}{dx} (2  x \\sin(4x)/8) ~=~ (2.0 \\sin(4x)+2*x* \\cos(4x)*4)/8\n",
    "$$"
   ]
  },
  {
   "cell_type": "code",
   "execution_count": 39,
   "metadata": {},
   "outputs": [],
   "source": [
    "def f_true(x):\n",
    "    f = np.sin(4.0*x)/4.0+x*np.cos(4*x)\n",
    "    #f = 4.0*np.cos(2.0*x)\n",
    "    return f"
   ]
  },
  {
   "cell_type": "code",
   "execution_count": 42,
   "metadata": {},
   "outputs": [
    {
     "data": {
      "text/plain": [
       "[<matplotlib.lines.Line2D at 0x27c587aa648>]"
      ]
     },
     "execution_count": 42,
     "metadata": {},
     "output_type": "execute_result"
    },
    {
     "data": {
      "image/png": "[encoded data removed]",
      "text/plain": [
       "<Figure size 432x288 with 1 Axes>"
      ]
     },
     "metadata": {
      "needs_background": "light"
     },
     "output_type": "display_data"
    }
   ],
   "source": [
    "ix = torch.FloatTensor(vx).reshape(vxn,1)\n",
    "plt.plot(ix, ix/8.0)\n",
    "plt.plot(ix, f_true(ix))"
   ]
  },
  {
   "cell_type": "code",
   "execution_count": 43,
   "metadata": {},
   "outputs": [],
   "source": [
    "mynet = Net()"
   ]
  },
  {
   "cell_type": "code",
   "execution_count": 44,
   "metadata": {},
   "outputs": [],
   "source": [
    "def Du(x):\n",
    "    u = mynet(x)\n",
    "    u_x = grad(flat(u), x, create_graph=True, allow_unused=True)[0] #nth_derivative(flat(u), wrt=x, n=1)\n",
    "    z = u_x*x\n",
    "    u_xx = grad(flat(z), x, create_graph=True, allow_unused=True)[0] #nth_derivative(flat(u), wrt=x, n=1)\n",
    "    f = u_xx\n",
    "    return f\n"
   ]
  },
  {
   "cell_type": "code",
   "execution_count": null,
   "metadata": {},
   "outputs": [],
   "source": []
  },
  {
   "cell_type": "code",
   "execution_count": 47,
   "metadata": {},
   "outputs": [
    {
     "data": {
      "text/plain": [
       "tensor([[-0.0066],\n",
       "        [-0.0061],\n",
       "        [-0.0034],\n",
       "        [-0.0061],\n",
       "        [-0.0020],\n",
       "        [-0.0071],\n",
       "        [ 0.0008],\n",
       "        [ 0.0010],\n",
       "        [-0.0043],\n",
       "        [-0.0047]], grad_fn=<AddBackward0>)"
      ]
     },
     "execution_count": 47,
     "metadata": {},
     "output_type": "execute_result"
    }
   ],
   "source": [
    "import random\n",
    "batches = []\n",
    "fbatches = []\n",
    "for i in range(20):\n",
    "    b = random.choices(vx,k=10)\n",
    "    bar = np.array(b)\n",
    "    fb = f_true(bar)\n",
    "    fb0 = torch.FloatTensor(fb).reshape(10,1)\n",
    "    fb0.requires_grad=True\n",
    "    ib = torch.FloatTensor(b).reshape(10,1)\n",
    "    ib.requires_grad=True\n",
    "    batches.append(ib)\n",
    "    fbatches.append(fb0)\n",
    "Du(batches[13])"
   ]
  },
  {
   "cell_type": "code",
   "execution_count": 50,
   "metadata": {},
   "outputs": [
    {
     "name": "stdout",
     "output_type": "stream",
     "text": [
      "epoc 50 bndry loss 0.000114, f loss 34.507450\n",
      "epoc 100 bndry loss 0.000250, f loss 36.232452\n",
      "epoc 150 bndry loss 0.002848, f loss 29.437109\n",
      "epoc 200 bndry loss 0.000985, f loss 11.938441\n",
      "epoc 250 bndry loss 0.000107, f loss 2.316287\n",
      "epoc 300 bndry loss 0.008629, f loss 1.438331\n",
      "epoc 350 bndry loss 0.011436, f loss 1.074060\n",
      "epoc 400 bndry loss 0.008207, f loss 0.871681\n",
      "epoc 450 bndry loss 0.007524, f loss 0.674291\n",
      "epoc 500 bndry loss 0.005099, f loss 0.523856\n",
      "epoc 550 bndry loss 0.002312, f loss 0.365107\n",
      "epoc 600 bndry loss 0.001081, f loss 0.244942\n",
      "epoc 650 bndry loss 0.000375, f loss 1.670559\n",
      "epoc 700 bndry loss 0.000063, f loss 0.122131\n",
      "epoc 750 bndry loss 0.000199, f loss 6.164561\n",
      "epoc 800 bndry loss 0.000004, f loss 0.090486\n",
      "epoc 850 bndry loss 0.000019, f loss 0.069341\n",
      "epoc 900 bndry loss 0.000007, f loss 0.162226\n",
      "epoc 950 bndry loss 0.000271, f loss 0.132035\n",
      "epoc 1000 bndry loss 0.000030, f loss 0.066517\n",
      "epoc 1050 bndry loss 0.000025, f loss 0.061045\n",
      "epoc 1100 bndry loss 0.000006, f loss 0.076107\n",
      "epoc 1150 bndry loss 0.000042, f loss 0.052816\n",
      "epoc 1200 bndry loss 0.000011, f loss 0.062416\n",
      "epoc 1250 bndry loss 0.000029, f loss 0.061673\n",
      "epoc 1300 bndry loss 0.000027, f loss 0.065541\n",
      "epoc 1350 bndry loss 0.000014, f loss 0.069448\n",
      "epoc 1400 bndry loss 0.000025, f loss 0.057983\n",
      "epoc 1450 bndry loss 0.000033, f loss 0.060347\n",
      "epoc 1500 bndry loss 0.000013, f loss 0.045319\n",
      "epoc 1550 bndry loss 0.000013, f loss 0.069401\n",
      "epoc 1600 bndry loss 0.000013, f loss 0.045363\n",
      "epoc 1650 bndry loss 0.000041, f loss 0.047705\n",
      "epoc 1700 bndry loss 0.000018, f loss 0.042465\n",
      "epoc 1750 bndry loss 0.000030, f loss 0.044976\n",
      "epoc 1800 bndry loss 0.000020, f loss 0.047455\n",
      "epoc 1850 bndry loss 0.000022, f loss 0.035397\n",
      "epoc 1900 bndry loss 0.000029, f loss 0.045061\n",
      "epoc 1950 bndry loss 0.000014, f loss 0.035934\n",
      "epoc 2000 bndry loss 0.000017, f loss 0.040834\n",
      "epoc 2050 bndry loss 0.000019, f loss 0.027484\n",
      "epoc 2100 bndry loss 0.000038, f loss 0.035936\n",
      "epoc 2150 bndry loss 0.000015, f loss 0.031285\n",
      "epoc 2200 bndry loss 0.000014, f loss 0.035551\n",
      "epoc 2250 bndry loss 0.000014, f loss 0.045050\n",
      "epoc 2300 bndry loss 0.000013, f loss 0.029442\n",
      "epoc 2350 bndry loss 0.000007, f loss 0.033936\n",
      "epoc 2400 bndry loss 0.000035, f loss 0.033959\n",
      "epoc 2450 bndry loss 0.000026, f loss 0.024212\n",
      "epoc 2500 bndry loss 0.000015, f loss 0.027683\n",
      "epoc 2550 bndry loss 0.000027, f loss 0.039736\n",
      "epoc 2600 bndry loss 0.000024, f loss 0.052690\n",
      "epoc 2650 bndry loss 0.000026, f loss 0.036852\n",
      "epoc 2700 bndry loss 0.000018, f loss 0.027152\n",
      "epoc 2750 bndry loss 0.000014, f loss 0.036231\n",
      "epoc 2800 bndry loss 0.000816, f loss 2.333740\n",
      "epoc 2850 bndry loss 0.000019, f loss 0.058375\n",
      "epoc 2900 bndry loss 0.000006, f loss 0.055941\n",
      "epoc 2950 bndry loss 0.000033, f loss 0.032782\n",
      "epoc 3000 bndry loss 0.000006, f loss 0.045642\n"
     ]
    }
   ],
   "source": [
    "#mynet = Net()\n",
    "epocs = 3003\n",
    "m = len(batches)\n",
    "loss_fn = nn.MSELoss()\n",
    "optimizerf = optim.SGD(mynet.parameters(), lr=0.0005)\n",
    "optimizerbdry = optim.SGD(mynet.parameters(), lr=0.001)\n",
    "\n",
    "loss_fn = nn.MSELoss()\n",
    "for epoc in range(1, epocs):\n",
    "    loss2tot =  0.0\n",
    "    for i in range(len(batches)):\n",
    "        batch_index = np.random.randint(0,m)\n",
    "        b = batches[batch_index]\n",
    "        fb = fbatches[batch_index]\n",
    "        optimizerf.zero_grad()\n",
    "        optimizerbdry.zero_grad()\n",
    "        output_bndry = mynet(bndry)\n",
    "        outputsf = Du(b)\n",
    "        loss_bndry = loss_fn(output_bndry, Truebndry)\n",
    "        lossf = loss_fn(outputsf, fb)\n",
    "        lossf.backward(retain_graph=True)\n",
    "        optimizerf.step()\n",
    "        loss2tot += lossf\n",
    "        loss_bndry.backward(retain_graph=True)\n",
    "        optimizerbdry.step()\n",
    "    if epoc % 50  == 0:\n",
    "        loss = 0.0\n",
    "        print('epoc %d bndry loss %f, f loss %f'%(epoc, float(loss_bndry), float(loss2tot))) # file=open('./elliptic_out.txt','a'))\n",
    "    if epoc % 3000 == 0:\n",
    "        torch.save(mynet.state_dict(), 'nonlinmodel')"
   ]
  },
  {
   "cell_type": "code",
   "execution_count": 59,
   "metadata": {},
   "outputs": [
    {
     "data": {
      "text/plain": [
       "[<matplotlib.lines.Line2D at 0x27c58420988>]"
      ]
     },
     "execution_count": 59,
     "metadata": {},
     "output_type": "execute_result"
    },
    {
     "data": {
      "image/png": "[encoded data removed]",
      "text/plain": [
       "<Figure size 432x288 with 1 Axes>"
      ]
     },
     "metadata": {
      "needs_background": "light"
     },
     "output_type": "display_data"
    }
   ],
   "source": [
    "ix = torch.FloatTensor(vx).reshape(vxn,1)\n",
    "u = mynet(ix)\n",
    "plt.plot(ix, u_true(ix),  linewidth=6 )\n",
    "plt.plot(ix, u.detach().numpy(), linewidth=2)"
   ]
  },
  {
   "cell_type": "code",
   "execution_count": 55,
   "metadata": {},
   "outputs": [
    {
     "data": {
      "text/plain": [
       "[<matplotlib.lines.Line2D at 0x27c5994adc8>]"
      ]
     },
     "execution_count": 55,
     "metadata": {},
     "output_type": "execute_result"
    },
    {
     "data": {
      "image/png": "[encoded data removed]",
      "text/plain": [
       "<Figure size 432x288 with 1 Axes>"
      ]
     },
     "metadata": {
      "needs_background": "light"
     },
     "output_type": "display_data"
    }
   ],
   "source": [
    "ix = torch.FloatTensor(vx).reshape(vxn,1)\n",
    "plt.plot(ix, f_true(ix) ,  linewidth=6)\n",
    "ix.requires_grad = True\n",
    "du = Du(ix)\n",
    "du = du.detach()\n",
    "plt.plot(ix.detach(), du, linewidth=2)\n"
   ]
  },
  {
   "cell_type": "markdown",
   "metadata": {},
   "source": [
    "$$\n",
    "\\frac{d}{dx} (x\\frac{du}{dx} )~=~ f(x)\n",
    "$$"
   ]
  },
  {
   "cell_type": "code",
   "execution_count": null,
   "metadata": {},
   "outputs": [],
   "source": []
  }
 ],
 "metadata": {
  "kernelspec": {
   "display_name": "Python 3",
   "language": "python",
   "name": "python3"
  },
  "language_info": {
   "codemirror_mode": {
    "name": "ipython",
    "version": 3
   },
   "file_extension": ".py",
   "mimetype": "text/x-python",
   "name": "python",
   "nbconvert_exporter": "python",
   "pygments_lexer": "ipython3",
   "version": "3.7.4"
  }
 },
 "nbformat": 4,
 "nbformat_minor": 2
}
