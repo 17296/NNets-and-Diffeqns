{
 "cells": [
  {
   "cell_type": "code",
   "execution_count": 366,
   "metadata": {},
   "outputs": [],
   "source": [
    "import numpy as np\n",
    "import scipy\n",
    "from scipy import spatial"
   ]
  },
  {
   "cell_type": "code",
   "execution_count": 1,
   "metadata": {},
   "outputs": [],
   "source": [
    "import matplotlib.pyplot as plt\n",
    "%matplotlib inline"
   ]
  },
  {
   "cell_type": "code",
   "execution_count": 7,
   "metadata": {},
   "outputs": [],
   "source": [
    "import torch\n",
    "import os\n",
    "import time\n",
    "from torch import nn\n",
    "import numpy as np\n",
    "from torch.autograd import Variable\n",
    "from torch import optim\n",
    "import torch.nn.functional as F\n",
    "from torch.autograd import grad\n",
    "import torch.autograd as autograd"
   ]
  },
  {
   "cell_type": "markdown",
   "metadata": {},
   "source": [
    "## Display results from pdedgan-PINN-final.py\n",
    "The generator takes a  batch of samples from the one-D normal distribution and returns a batch of vectors in R^2.  The first component x' of each vector is an x value and the second compononent u' is the solution at that x value.\n",
    "\n",
    "let\n",
    "$$\n",
    " X \\sim \\mathcal{N}(\\mu,\\,\\sigma^{2}) ~~~ with ~~ \\mu=0 ~~~ and ~~~ \\sigma=1\n",
    "$$\n",
    "then\n",
    "$$\n",
    "gen(X) ~=~ (x',~ u')\n",
    "$$\n",
    "The discriminator takes batches of triples from the true solution samples of the form\n",
    "$$\n",
    "( x, ~ u, ~\\frac{d}{dx}(x \\frac{du}{dx}) ~)\n",
    "$$\n",
    "The torch function Du(x,u) defined below is used to compute this second derivative operator from the generator (x', u') values.\n",
    "So the generator is trying to fool the discriminator with\n",
    "$$\n",
    "dis(~ gen(X)[:,0], ~~gen(X)[:,1], ~~ Du(X,gen(X)[:,1]) ~)\n",
    "$$"
   ]
  },
  {
   "cell_type": "code",
   "execution_count": 8,
   "metadata": {},
   "outputs": [],
   "source": [
    "# defining generator class\n",
    "\n",
    "class generator(nn.Module):    \n",
    "    def __init__(self):      \n",
    "        super(generator, self).__init__()\n",
    "        self.l1 = nn.Linear(1,300)\n",
    "        self.l2 = nn.Linear(300,1000)\n",
    "        self.l3 = nn.Linear(1000,800)\n",
    "        self.l4 = nn.Linear(800,2)\n",
    "        self.rl = nn.Tanh()\n",
    "        \n",
    "    def forward(self, x):\n",
    "        z = self.rl(self.l1(x))\n",
    "        u = self.rl(self.l2(z))\n",
    "        u = self.rl(self.l3(u))\n",
    "        z = self.l4(u)\n",
    "        return z"
   ]
  },
  {
   "cell_type": "code",
   "execution_count": 9,
   "metadata": {},
   "outputs": [],
   "source": [
    "class discriminator(nn.Module):   \n",
    "    def __init__(self):       \n",
    "        super(discriminator, self).__init__()\n",
    "        self.l1 = nn.Linear(3,300)\n",
    "        self.relu = nn.ReLU()\n",
    "        self.l2 = nn.Linear(300,300)\n",
    "        self.l3 = nn.Linear(300,200)\n",
    "        self.l4  = nn.Linear(200,1)\n",
    "        self.sig = nn.Sigmoid()\n",
    "        \n",
    "    def forward(self, z):\n",
    "        u = self.relu(self.l1(z))\n",
    "        u = self.relu(self.l2(u))\n",
    "        u = self.relu(self.l3(u))\n",
    "        out = self.sig(self.l4(u))\n",
    "        return out\n"
   ]
  },
  {
   "cell_type": "code",
   "execution_count": 10,
   "metadata": {
    "scrolled": true
   },
   "outputs": [],
   "source": [
    "vxn  = 1000\n",
    "vx =np.linspace(0, np.pi, vxn) \n",
    "ix = torch.FloatTensor(vx).reshape(vxn,1)\n",
    "#torch.rand(batch_size*1,1)"
   ]
  },
  {
   "cell_type": "markdown",
   "metadata": {},
   "source": [
    "$$\n",
    "\\frac{d^2(x*u(x))}{dx^2} ~=~ \\frac{dh}{dx}  ~~~where~ h ~=~ \\frac{d}{dx}x*u(x)\n",
    "$$"
   ]
  },
  {
   "cell_type": "markdown",
   "metadata": {},
   "source": [
    "$$\n",
    "\\frac{d}{dx}x*u(x) ~=~ u(x) ~+~ x \\frac{d (sin(2x)^2)}{dx} ~=~ u(x) ~+~ x*2*sin(2x)cos(2x)*2\n",
    "$$"
   ]
  },
  {
   "cell_type": "markdown",
   "metadata": {},
   "source": [
    "$$\n",
    "\\frac{dh}{dx} ~=~ \\frac{d}{dx}(u(x) ~+~ 4x*sin(2x)cos(2x)) ~=~ 4*sin(2x)cos(2x)~+~4*sin(2x)cos(2x)~+~x*[ cos(2x)cos(2x)2 ~-~ sin(2x)sin(2x)2]\n",
    "$$"
   ]
  },
  {
   "cell_type": "markdown",
   "metadata": {},
   "source": [
    "$$\n",
    "\\frac{d^2(x*u(x))}{dx^2} ~=~ 8*sin(4x) ~+~ 2x*cos(4x)\n",
    "$$"
   ]
  },
  {
   "cell_type": "code",
   "execution_count": 11,
   "metadata": {},
   "outputs": [
    {
     "name": "stdout",
     "output_type": "stream",
     "text": [
      "torch.Size([10, 1])\n",
      "torch.Size([10, 3])\n"
     ]
    }
   ],
   "source": [
    "batch_size = 10\n",
    "num_batches =20\n",
    "LAMBDA = 0.1\n",
    "import random\n",
    "\n",
    "def u_true2(x):\n",
    "    u = np.sin(2*x)**2\n",
    "    return u/8.0\n",
    "\n",
    "def u_true(x):\n",
    "    u = np.sin(x)**2\n",
    "    return u\n",
    "\n",
    "def f_true2(x):\n",
    "    f = np.sin(4.0*x)/4.0+x*np.cos(4*x)\n",
    "    #f = 4.0*np.cos(2.0*x)\n",
    "    return f\n",
    "def f_true(x):\n",
    "    f = np.sin(2.0*x)+2.0*x*np.cos(2*x)\n",
    "    #f = 4.0*np.cos(2.0*x)\n",
    "    return f\n",
    "vxn  = 2000\n",
    "vx =np.linspace(0, np.pi, vxn) \n",
    "ix = torch.FloatTensor(vx).reshape(vxn,1)\n",
    "\n",
    "import random\n",
    "btches = []\n",
    "ubtches = []\n",
    "fakebtches = []\n",
    "real_data_batches = []\n",
    "for i in range(num_batches):\n",
    "    b = random.choices(vx,k=batch_size)\n",
    "    bar = np.array(b)\n",
    "    ub = u_true(bar)\n",
    "    fb = f_true(bar)\n",
    "    ub0 = torch.FloatTensor(ub).reshape(batch_size,1)\n",
    "    ub0.requires_grad=True\n",
    "    ib = torch.FloatTensor(b).reshape(batch_size,1)\n",
    "    ifb = torch.FloatTensor(fb).reshape(batch_size,1)\n",
    "    ib.requires_grad=True\n",
    "    ifb.requires_grad = True\n",
    "    real_data_batches.append(torch.cat((ib, ub0, ifb),1))\n",
    "    btches.append(ib)\n",
    "    ubtches.append(ub0)\n",
    "    noise = torch.randn(batch_size*1,1)\n",
    "    fake = torch.FloatTensor(noise).reshape(batch_size,1)\n",
    "    fake.requires_grad=True\n",
    "    fakebtches.append(fake)\n",
    "print(fakebtches[0].shape)\n",
    "print(real_data_batches[0].shape)"
   ]
  },
  {
   "cell_type": "code",
   "execution_count": 12,
   "metadata": {},
   "outputs": [],
   "source": [
    "def flat(x):\n",
    "    m = x.shape[0]\n",
    "    return [x[i] for i in range(m)]\n",
    "\n",
    "def Du(x,u):\n",
    "    u_x = grad(flat(u), x, create_graph=True, allow_unused=True)[0] #nth_derivative(flat(u), wrt=x, n=1)\n",
    "    xv =x[:,0].reshape(batch_size,1)\n",
    "    z = u_x*xv\n",
    "    u_xx = grad(flat(z), x, create_graph=True, allow_unused=True)[0] #nth_derivative(flat(u), wrt=x, n=1)\n",
    "    f = u_xx\n",
    "    return f\n",
    "\n"
   ]
  },
  {
   "cell_type": "code",
   "execution_count": 13,
   "metadata": {
    "scrolled": true
   },
   "outputs": [
    {
     "data": {
      "image/png": "[encoded data removed]",
      "text/plain": [
       "<Figure size 432x288 with 1 Axes>"
      ]
     },
     "metadata": {
      "needs_background": "light"
     },
     "output_type": "display_data"
    }
   ],
   "source": [
    "for i in range(num_batches):\n",
    "    x = btches[i].detach().numpy()\n",
    "    y = ubtches[i].detach().numpy()\n",
    "    yy = fakebtches[i].detach().numpy()\n",
    "    plt.scatter(x,y, s=5)\n",
    "    #plt.scatter(x,yy)"
   ]
  },
  {
   "cell_type": "code",
   "execution_count": 14,
   "metadata": {
    "scrolled": true
   },
   "outputs": [
    {
     "data": {
      "text/plain": [
       "<All keys matched successfully>"
      ]
     },
     "execution_count": 14,
     "metadata": {},
     "output_type": "execute_result"
    }
   ],
   "source": [
    "gen =  generator()\n",
    "gen.load_state_dict(torch.load('generator-tanh-pinn-final'))"
   ]
  },
  {
   "cell_type": "code",
   "execution_count": 16,
   "metadata": {
    "scrolled": false
   },
   "outputs": [
    {
     "name": "stdout",
     "output_type": "stream",
     "text": [
      "points out of range: 0\n"
     ]
    },
    {
     "data": {
      "image/png": "[encoded data removed]",
      "text/plain": [
       "<Figure size 432x288 with 1 Axes>"
      ]
     },
     "metadata": {
      "needs_background": "light"
     },
     "output_type": "display_data"
    }
   ],
   "source": [
    "numdots = 0\n",
    "for i in range(0, num_batches):\n",
    "    x = btches[i].detach().numpy()\n",
    "    y = ubtches[i].detach().numpy()\n",
    "    plt.scatter(x,y, color='b', s = 5)\n",
    "for i in range(0,num_batches):\n",
    "    fakes = fakebtches[i]\n",
    "    noise = torch.randn(batch_size, 1)\n",
    "    noisev = autograd.Variable(noise)  # totally freeze netG\n",
    "    fout = gen(noisev)\n",
    "    z = fout.detach().numpy()\n",
    "    #numdots = 0\n",
    "    for j in range(int(batch_size)):\n",
    "        zx = z[j,0]\n",
    "        zy = z[j,1]\n",
    "        if zy < 1.2 and zy > -0.1:\n",
    "            plt.scatter(zx, zy, s=30)\n",
    "        else:\n",
    "            numdots+=1\n",
    "        #print(zx, noisev[j].detach().numpy())\n",
    "print(\"points out of range:\", numdots)"
   ]
  },
  {
   "cell_type": "markdown",
   "metadata": {},
   "source": [
    "notice above that we are still not geting the solution correctly resolve beyond x=2.5"
   ]
  },
  {
   "cell_type": "code",
   "execution_count": 543,
   "metadata": {},
   "outputs": [
    {
     "name": "stdout",
     "output_type": "stream",
     "text": [
      "points out of range on x asis = 0\n"
     ]
    },
    {
     "data": {
      "image/png": "[encoded data removed]",
      "text/plain": [
       "<Figure size 432x288 with 1 Axes>"
      ]
     },
     "metadata": {
      "needs_background": "light"
     },
     "output_type": "display_data"
    }
   ],
   "source": [
    "numpts = 0\n",
    "for i in range(0,num_batches):\n",
    "    x = btches[i].detach().numpy()\n",
    "    y = f_true(x)\n",
    "    #y = ubtches[i].detach().numpy()\n",
    "    plt.scatter(x,y, color='b', s = 5)\n",
    "for i in range(0,num_batches):\n",
    "    noise = torch.randn(batch_size, 1)\n",
    "    noisev = autograd.Variable(noise)\n",
    "    noisev.requires_grad = True\n",
    "    fout = gen(noisev)\n",
    "    x = fout[:,0]\n",
    "    u = fout[:,1]\n",
    "    #print(Du(x,u))\n",
    "    for j in range(batch_size):\n",
    "        x = noisev\n",
    "        u = fout[j,1].reshape(1,1)\n",
    "        \n",
    "        #print(Du(x,u)[j])\n",
    "        xv = fout[j,0].detach().numpy()\n",
    "        f =  Du(x,u)[j].detach().numpy()\n",
    "        #print(f)\n",
    "        if xv < 3.2:\n",
    "            plt.scatter(xv,f, s=30)\n",
    "        else:\n",
    "            numpts += 1\n",
    "print('points out of range on x asis =', numpts)"
   ]
  },
  {
   "cell_type": "markdown",
   "metadata": {},
   "source": [
    "again the fit above 2.5 is spotty at best, but the rest is not too bad."
   ]
  },
  {
   "cell_type": "code",
   "execution_count": 542,
   "metadata": {},
   "outputs": [
    {
     "name": "stdout",
     "output_type": "stream",
     "text": [
      "torch.Size([10, 1])\n",
      "torch.Size([10, 3])\n"
     ]
    }
   ],
   "source": [
    "import random\n",
    "btches = []\n",
    "ubtches = []\n",
    "fakebtches = []\n",
    "real_data_batches = []\n",
    "for i in range(num_batches):\n",
    "    b = random.choices(vx,k=batch_size)\n",
    "    bar = np.array(b)\n",
    "    ub = u_true2(bar)\n",
    "    fb = f_true2(bar)\n",
    "    ub0 = torch.FloatTensor(ub).reshape(batch_size,1)\n",
    "    ub0.requires_grad=True\n",
    "    ib = torch.FloatTensor(b).reshape(batch_size,1)\n",
    "    ifb = torch.FloatTensor(fb).reshape(batch_size,1)\n",
    "    ib.requires_grad=True\n",
    "    ifb.requires_grad = True\n",
    "    real_data_batches.append(torch.cat((ib, ub0, ifb),1))\n",
    "    btches.append(ib)\n",
    "    ubtches.append(ub0)\n",
    "    noise = torch.randn(batch_size*1,1)\n",
    "    fake = torch.FloatTensor(noise).reshape(batch_size,1)\n",
    "    fake.requires_grad=True\n",
    "    fakebtches.append(fake)\n",
    "print(fakebtches[0].shape)\n",
    "print(real_data_batches[0].shape)"
   ]
  },
  {
   "cell_type": "markdown",
   "metadata": {},
   "source": [
    "now we show the solution if we ignore the differential equation"
   ]
  },
  {
   "cell_type": "code",
   "execution_count": 529,
   "metadata": {},
   "outputs": [
    {
     "data": {
      "text/plain": [
       "<All keys matched successfully>"
      ]
     },
     "execution_count": 529,
     "metadata": {},
     "output_type": "execute_result"
    }
   ],
   "source": [
    "gen =  generator()\n",
    "gen.load_state_dict(torch.load('generator-tanh-best-no-Du'))"
   ]
  },
  {
   "cell_type": "code",
   "execution_count": 530,
   "metadata": {},
   "outputs": [
    {
     "data": {
      "image/png": "[encoded data removed]",
      "text/plain": [
       "<Figure size 432x288 with 1 Axes>"
      ]
     },
     "metadata": {
      "needs_background": "light"
     },
     "output_type": "display_data"
    }
   ],
   "source": [
    "numdots = 0\n",
    "for i in range(0, num_batches):\n",
    "    x = btches[i].detach().numpy()\n",
    "    y = ubtches[i].detach().numpy()\n",
    "    plt.scatter(x,y, color='b', s = 5)\n",
    "for i in range(0,num_batches):\n",
    "    fakes = fakebtches[i]\n",
    "    noise = torch.randn(batch_size, 1)\n",
    "    noisev = autograd.Variable(noise)  # totally freeze netG\n",
    "    fout = gen(noisev)\n",
    "    z = fout.detach().numpy()\n",
    "    #numdots = 0\n",
    "    for j in range(int(batch_size)):\n",
    "        zx = z[j,0]\n",
    "        zy = z[j,1]\n",
    "        if zy < 1.2 and zy > -0.1:\n",
    "            plt.scatter(zx, zy, s=30)\n",
    "        else:\n",
    "            numdots+=1\n",
    "        #print(numdots, zx, zy)"
   ]
  },
  {
   "cell_type": "code",
   "execution_count": 532,
   "metadata": {},
   "outputs": [
    {
     "name": "stdout",
     "output_type": "stream",
     "text": [
      "points out of range on x asis = 0\n"
     ]
    },
    {
     "data": {
      "image/png": "[encoded data removed]",
      "text/plain": [
       "<Figure size 432x288 with 1 Axes>"
      ]
     },
     "metadata": {
      "needs_background": "light"
     },
     "output_type": "display_data"
    }
   ],
   "source": [
    "numpts = 0\n",
    "for i in range(0,num_batches):\n",
    "    x = btches[i].detach().numpy()\n",
    "    y = f_true2(x)\n",
    "    #y = ubtches[i].detach().numpy()\n",
    "    plt.scatter(x,y, color='b', s = 5)\n",
    "for i in range(0,num_batches):\n",
    "    noise = torch.randn(batch_size, 1)\n",
    "    noisev = autograd.Variable(noise)\n",
    "    noisev.requires_grad = True\n",
    "    fout = gen(noisev)\n",
    "    x = fout[:,0]\n",
    "    u = fout[:,1]\n",
    "    #print(Du(x,u))\n",
    "    for j in range(batch_size):\n",
    "        x = noisev\n",
    "        u = fout[j,1].reshape(1,1)\n",
    "        \n",
    "        #print(Du(x,u)[j])\n",
    "        xv = fout[j,0].detach().numpy()\n",
    "        f =  Du(x,u)[j].detach().numpy()\n",
    "        #print(f)\n",
    "        if xv < 3.2:\n",
    "            plt.scatter(xv,f, s=30)\n",
    "        else:\n",
    "            numpts += 1\n",
    "print('points out of range on x asis =', numpts)"
   ]
  },
  {
   "cell_type": "markdown",
   "metadata": {},
   "source": [
    "this is using u = sin(2x)**2/8 \n",
    "the fit to the differential equation is not very good."
   ]
  },
  {
   "cell_type": "code",
   "execution_count": null,
   "metadata": {},
   "outputs": [],
   "source": []
  }
 ],
 "metadata": {
  "kernelspec": {
   "display_name": "Python 3",
   "language": "python",
   "name": "python3"
  },
  "language_info": {
   "codemirror_mode": {
    "name": "ipython",
    "version": 3
   },
   "file_extension": ".py",
   "mimetype": "text/x-python",
   "name": "python",
   "nbconvert_exporter": "python",
   "pygments_lexer": "ipython3",
   "version": "3.7.4"
  }
 },
 "nbformat": 4,
 "nbformat_minor": 2
}
